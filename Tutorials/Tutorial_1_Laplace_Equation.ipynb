{
 "cells": [
  {
   "cell_type": "markdown",
   "id": "070d2146",
   "metadata": {},
   "source": [
    "# SPICY Tutorial 1\n",
    "\n",
    "In this tutorial we use SPICY to solve the Laplace equation on a rectangular domain. \n",
    "\n",
    "We start by importing the relevant packages and customizing the plots. For this, LaTeX needs to be installed."
   ]
  },
  {
   "cell_type": "code",
   "execution_count": null,
   "id": "134e5b20",
   "metadata": {},
   "outputs": [],
   "source": [
    "import numpy as np\n",
    "import matplotlib.pyplot as plt \n",
    "%matplotlib inline  \n",
    "\n",
    "# Note: in case you have some missing packages to run this script, you can install them as follows\n",
    "#import sys\n",
    "#!{sys.executable} -m pip install shapely\n",
    "# (in this example we installed shapely)\n",
    "\n",
    "import sys\n",
    "import os\n",
    "sys.path.append('..' + os.sep + 'spicy_vki' + os.sep + 'spicy')\n",
    "from spicy_class import spicy\n",
    "\n",
    "\n",
    "# This is for plot customization\n",
    "fontsize = 16\n",
    "plt.rc('text', usetex=True)      \n",
    "plt.rc('font', family='serif')\n",
    "plt.rcParams['xtick.labelsize'] = fontsize\n",
    "plt.rcParams['ytick.labelsize'] = fontsize\n",
    "plt.rcParams['axes.labelsize'] = fontsize\n",
    "plt.rcParams['legend.fontsize'] = fontsize\n",
    "plt.rcParams['font.size'] = fontsize"
   ]
  },
  {
   "cell_type": "markdown",
   "id": "d8781fc6",
   "metadata": {},
   "source": [
    "We consider a rectangular domain $(x,y) = [0,1]\\times[0,1]$ and we sample $n_p=400$ points randomly in this domain.\n",
    "The problem set and the boundary conditions are the following\n",
    "\n",
    "$$\n",
    "\\Delta u = 0\\\\ \n",
    "u(x=0,y) = -y^2 \\\\\n",
    "u(x,y=0) = x^2 \\\\\n",
    "u(x=1,y) = 1-y^2 \\\\\n",
    "u(x,y=1) = x^2-1\n",
    "$$\n",
    "\n",
    "The solution to this problem is $u=x^2-y^2$. We will use this to check the accuracy of the solver. Moreover, it is worth noticing that the solver will interpret the boundary conditions as constraints: these need not be on the investigated domain's boundaries. You could change the domain boundaries while still keeping the exact location of the constraints, and the results will be the same!"
   ]
  },
  {
   "cell_type": "code",
   "execution_count": null,
   "id": "3e7f0673",
   "metadata": {},
   "outputs": [],
   "source": [
    "# Fix the random seed to ensure reproducibility\n",
    "np.random.seed(42)\n",
    "\n",
    "# Number of particles\n",
    "n_p = 400\n",
    "\n",
    "# Define the domain boundaries\n",
    "x1, x2 = 0, 1\n",
    "y1, y2 = 0, 1 \n",
    "\n",
    "# Generate the random points (note: we write the code for sampling on an arbitrary rectangular domain)\n",
    "X = np.random.random(n_p)*(x2 - x1) + x1\n",
    "Y = np.random.random(n_p)*(y2 - y1) + y1\n",
    "\n",
    "# The analytical solution for this is the following\n",
    "U=X**2-Y**2\n"
   ]
  },
  {
   "cell_type": "code",
   "execution_count": null,
   "id": "e4bfb48f",
   "metadata": {},
   "outputs": [],
   "source": [
    "# Here we plot the solution on the sampled point (we will use it only to verify SPICY's accuracy)\n",
    "P=plt.scatter(X,Y,c=U); plt.gca().set_aspect('equal'); plt.colorbar(P)\n"
   ]
  },
  {
   "cell_type": "markdown",
   "id": "79ba1907",
   "metadata": {},
   "source": [
    "#### Define the boundary conditions\n",
    "\n",
    "We define the boundary conditions as constraints. We use 10 collocation points on each segment interested, placed on a regular grid. Then we concatenate all of these into a single array. Note that these constraints need not be on boundaries nor equally spaced. What matters is the final array that is constructed out of it."
   ]
  },
  {
   "cell_type": "code",
   "execution_count": null,
   "id": "34012c01",
   "metadata": {},
   "outputs": [],
   "source": [
    "# Define the boundary conditions\n",
    "# Number of points for the vertical and horizontal boundary\n",
    "n_c_V = n_c_H = 10\n",
    "\n",
    "# Left boundary (x=x1, y=line)\n",
    "X_Dir1 = np.ones(n_c_V)*(x1)\n",
    "Y_Dir1 = np.linspace(y1,y2,n_c_V)\n",
    "U_Dir1 = -Y_Dir1**2\n",
    "# Bottom boundary (x=line, y=y1)\n",
    "X_Dir2 = np.linspace(x1,x2,n_c_H)\n",
    "Y_Dir2 = np.ones(n_c_H)*y1\n",
    "U_Dir2 = X_Dir2**2\n",
    "# Right boundary (x=x2, y=line)\n",
    "X_Dir3 = np.ones(n_c_V)*x2\n",
    "Y_Dir3 = np.linspace(y1,y2,n_c_V)\n",
    "U_Dir3 = 1-Y_Dir3**2\n",
    "# Top  boundary\n",
    "X_Dir4 = np.linspace(x1,x2,n_c_H)\n",
    "Y_Dir4 = np.ones(n_c_H)*y2\n",
    "U_Dir4 = X_Dir4**2-1\n",
    "\n",
    "\n",
    "# Assemble the constraints\n",
    "X_Dir = np.concatenate((X_Dir1, X_Dir2, X_Dir3, X_Dir4))\n",
    "Y_Dir = np.concatenate((Y_Dir1, Y_Dir2, Y_Dir3, Y_Dir4))\n",
    "U_Dir = np.concatenate((U_Dir1, U_Dir2, U_Dir3, U_Dir4))\n",
    "DIR = [X_Dir, Y_Dir, U_Dir]"
   ]
  },
  {
   "cell_type": "markdown",
   "id": "36e1a44c",
   "metadata": {},
   "source": [
    "#### Step 1: Initialize the SPICY class\n",
    "SPICY offers a RBF constrained regressor and a solver for Poisson's equation. To use the solver, we do not need any target data. Instead, we need to provide the source term on the RHS of the Poisson's equation. Since we are interested in the Laplace equation, this will be just a vector of zeros.\n",
    "\n",
    "We thus initialize a SPICY object providing a vector of zero as target and we pick our basis to be either 'C4' or 'gauss'"
   ]
  },
  {
   "cell_type": "code",
   "execution_count": null,
   "id": "873d6798",
   "metadata": {},
   "outputs": [],
   "source": [
    "SP = spicy([np.zeros(X.shape)], [X,Y], basis='c4')"
   ]
  },
  {
   "cell_type": "markdown",
   "id": "4a58f1b2",
   "metadata": {},
   "source": [
    "#### Step 2: Peform the clustering\n",
    "We then proceed with the clustering algorithm to collocate the RBFs. \n",
    "\n",
    "We use two levels for the $n_K$ vector, picking $n_K=[6,50]$ and we set $\\epsilon_l=0.88$, with RBF's radious limited in $r_{mM}=[0.02,1.4]$. \n",
    "\n",
    "This means that SPICY will generate two levels of clustering with round(n_p/6) and round(n_p/50) clusters. The cluster barycenters will be the collocation point of the RBFs (see presentation 1). Their shape factor will be computed so that the value of each RBF is equal to 0.88 at the closest barycenter. However, all radii r<0.02 or r>1.4 will be capped at 0.02 and 1.4, respectively.\n",
    "\n",
    "Note that the definition of radious is linked to the shape factor of the RBF depending on whether we are using Gaussians or C4 bases.\n",
    "\n",
    "Finally, SPICY allows to use different refinement areas. We will see more about this in tutorial 3. For the moment we give this as a list of empty variables. This must have the same length as n_k. A set of empty 'Areas' means that both levels of cluster will be carried out using the entire domain\n",
    "\n",
    "This information is given to SPICY in one line:"
   ]
  },
  {
   "cell_type": "code",
   "execution_count": null,
   "id": "ea8ac2aa",
   "metadata": {},
   "outputs": [],
   "source": [
    "SP.clustering([6,50], Areas=[[],[]], r_mM=[0.02,1.4], eps_l=0.88)"
   ]
  },
  {
   "cell_type": "markdown",
   "id": "4759989b",
   "metadata": {},
   "source": [
    "#### Step 3: Introduce the constraints \n",
    "\n",
    "We provide the constraints to SPICY in one line. We activate the option extra_RBF='True' to tell SPICY we want extra RBFs at the constraint points "
   ]
  },
  {
   "cell_type": "code",
   "execution_count": null,
   "id": "0d7cff89",
   "metadata": {},
   "outputs": [],
   "source": [
    "SP.scalar_constraints(DIR=DIR, extra_RBF=True)"
   ]
  },
  {
   "cell_type": "markdown",
   "id": "3baa7490",
   "metadata": {},
   "source": [
    "We can plot the results of what we did so far: the cluster levels and the constraint points.\n",
    "\n",
    "SPICY has a plotting function, which is particularly useful in 2D. \n",
    "\n",
    "It produces two plots: the one on the left-hand side shows the RBFs in 2D together with the sampling points (in blue) and points where constraints are introduced (in red). One should make sure, using this plot, that the RBFs cover well the whole domain. The figure on the right shows the distribution of diameters. \n",
    "\n",
    "We can make a plot of this kind for each of the two levels of our cluster.\n"
   ]
  },
  {
   "cell_type": "code",
   "execution_count": null,
   "id": "dd140486",
   "metadata": {},
   "outputs": [],
   "source": [
    "SP.plot_RBFs(l=0) # plot the clustering results at level 0 \n",
    "SP.plot_RBFs(l=1) # plot the clustering results at level 1 "
   ]
  },
  {
   "cell_type": "markdown",
   "id": "8fc9cc8f",
   "metadata": {},
   "source": [
    "We can also check how many RBFs we have in each level. SPICY has a variable called 'Clust_list' that store an index with the cluster level for each RBF. Thus we have:"
   ]
  },
  {
   "cell_type": "code",
   "execution_count": null,
   "id": "8f013535",
   "metadata": {},
   "outputs": [],
   "source": [
    "print(SP.Clust_list) # check the labels of each RBF\n",
    "# print the number at each level\n",
    "print('We have '+str(np.count_nonzero(SP.Clust_list == 0)) + ' RBFs at level 0')\n",
    "print('We have '+str(np.count_nonzero(SP.Clust_list == 1)) + ' RBFs at level 1')"
   ]
  },
  {
   "cell_type": "markdown",
   "id": "2c03b6a2",
   "metadata": {},
   "source": [
    "#### Step 4: Assemble the linear system\n",
    "We can now assembly the linear system for the meshless Poisson solver. We will use no additional harmonic bases (these are currently under development). "
   ]
  },
  {
   "cell_type": "code",
   "execution_count": null,
   "id": "5bb5b13f",
   "metadata": {},
   "outputs": [],
   "source": [
    "SP.Assembly_Poisson()"
   ]
  },
  {
   "cell_type": "markdown",
   "id": "eb106b3b",
   "metadata": {},
   "source": [
    "#### Step 5: Solve the linear system\n",
    "We solve the system with a maximum condition number of $10^8$ for the matrices $A$ and $M$. When a matrix exceeds this value, regularization is used to cap it to this value. For the matrix $M$, the regularization is applied only if Cholesky factorization fails. \n"
   ]
  },
  {
   "cell_type": "code",
   "execution_count": null,
   "id": "0bbd3ec6",
   "metadata": {},
   "outputs": [],
   "source": [
    "SP.Solve(K_cond=1e8)"
   ]
  },
  {
   "cell_type": "markdown",
   "id": "abbfc398",
   "metadata": {},
   "source": [
    "#### Step 6: Obtain the solution\n",
    "Here, we use the same grid points as before for an easier comparison, However, this grid can be completely arbitrary!"
   ]
  },
  {
   "cell_type": "code",
   "execution_count": null,
   "id": "05f3546f",
   "metadata": {},
   "outputs": [],
   "source": [
    "U_calc = SP.Get_Sol([X,Y])"
   ]
  },
  {
   "cell_type": "markdown",
   "id": "9fa85e8e",
   "metadata": {},
   "source": [
    "We can now compute the error in the magnitude of $u$, which should be well below 1%."
   ]
  },
  {
   "cell_type": "code",
   "execution_count": null,
   "id": "593a12e3",
   "metadata": {},
   "outputs": [],
   "source": [
    "error = np.linalg.norm(U_calc - U) / np.linalg.norm(U)\n",
    "print('l2 relative error in  phi: {0:.3f}%'.format(error*100))"
   ]
  },
  {
   "cell_type": "markdown",
   "id": "85fdaf43",
   "metadata": {},
   "source": [
    "Plot the errors."
   ]
  },
  {
   "cell_type": "code",
   "execution_count": null,
   "id": "1d3653f2",
   "metadata": {},
   "outputs": [],
   "source": [
    "fig, axes = plt.subplots(ncols=3, figsize=(15,5), dpi=100)\n",
    "axes[0].set_title('RBF Regression')\n",
    "sc=axes[0].scatter(X, Y, c=U_calc); plt.colorbar(sc,ax=axes[0])\n",
    "axes[1].set_title('Ground truth')\n",
    "sc2=axes[1].scatter(X, Y, c=U); plt.colorbar(sc2,ax=axes[1])\n",
    "axes[2].set_title('Difference')\n",
    "sc3=axes[2].scatter(X, Y, c=U_calc-U); plt.colorbar(sc3,ax=axes[2])\n",
    "\n",
    "for ax in axes.flatten():\n",
    "    ax.set_aspect(1)\n",
    "fig.tight_layout()\n"
   ]
  },
  {
   "cell_type": "markdown",
   "id": "90475c0a",
   "metadata": {},
   "source": [
    "#### Compute Gradients\n",
    "\n",
    "The main advantage of the proposed approach is that the RBF expansion allows for analytically computing derivatives.\n",
    "\n",
    "If we interpret the previous solution as being a potential function, and we now call it $$\\phi=x^2-y^2$$ then we can define a vector field such that $\\nabla \\phi= \\mathbf{u}$. The vector field is thus $\\mathbf{u}=(2x,-2y)$. Let's see the accuracy of the derivatives obtained via SPICY: \n"
   ]
  },
  {
   "cell_type": "code",
   "execution_count": null,
   "id": "b6384184",
   "metadata": {},
   "outputs": [],
   "source": [
    "# We first define a new set of points. For the sake of demonstration we take a unfiform grid.\n",
    "Xg, Yg = np.meshgrid(np.linspace(x1,x2,10), \n",
    "                     np.linspace(y1,y2,10))\n",
    "\n",
    "# The gradient field u=dphidx and v=dphidy should be:\n",
    "u_T=2*Xg\n",
    "v_T=-2*Yg\n",
    "\n",
    "# Using the function Get_first_Derivatives in the scipy object we can assign the output gradient to a field:\n",
    "u_C,v_C=SP.Get_first_Derivatives([Xg.reshape(-1),\n",
    "                                  Yg.reshape(-1)])    \n",
    "# Note that the input grid should be a list\n",
    "\n",
    "# We can now plot a quiver of the theoretical field in black and the computed one in red.\n",
    "\n",
    "plt.quiver(Xg,Yg,u_T,v_T,color='black')\n",
    "plt.quiver(Xg.reshape(-1),Yg.reshape(-1),\n",
    "           u_C,v_C,color='red')\n"
   ]
  },
  {
   "cell_type": "markdown",
   "id": "d3ec3357",
   "metadata": {},
   "source": [
    "Yes, the red and the black fields are indistinguishable! "
   ]
  }
 ],
 "metadata": {
  "kernelspec": {
   "display_name": "Python 3 (ipykernel)",
   "language": "python",
   "name": "python3"
  },
  "language_info": {
   "codemirror_mode": {
    "name": "ipython",
    "version": 3
   },
   "file_extension": ".py",
   "mimetype": "text/x-python",
   "name": "python",
   "nbconvert_exporter": "python",
   "pygments_lexer": "ipython3",
   "version": "3.10.9"
  }
 },
 "nbformat": 4,
 "nbformat_minor": 5
}
